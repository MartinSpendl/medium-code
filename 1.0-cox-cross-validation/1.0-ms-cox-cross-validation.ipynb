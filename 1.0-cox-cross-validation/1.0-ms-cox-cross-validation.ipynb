{
 "cells": [
  {
   "attachments": {},
   "cell_type": "markdown",
   "metadata": {},
   "source": [
    "# Cross validation of cox regressor\n",
    "\n",
    "Cross validation is an improtant tool for evaluating the performance (or true risk) of your model.\n",
    "But with Cox regressor it can lead to some unstable results, especially with increased fold count."
   ]
  },
  {
   "cell_type": "code",
   "execution_count": 1,
   "metadata": {},
   "outputs": [],
   "source": [
    "import numpy as np\n",
    "import pandas as pd\n",
    "import matplotlib.pyplot as plt\n",
    "\n",
    "from lifelines import CoxPHFitter\n",
    "from lifelines.datasets import load_leukemia\n",
    "from sklearn.model_selection import KFold\n",
    "\n",
    "from scipy.stats import gaussian_kde\n",
    "from tqdm import tqdm"
   ]
  },
  {
   "cell_type": "code",
   "execution_count": 2,
   "metadata": {},
   "outputs": [
    {
     "name": "stdout",
     "output_type": "stream",
     "text": [
      "Number of samples: 42\n"
     ]
    },
    {
     "data": {
      "text/html": [
       "<div>\n",
       "<style scoped>\n",
       "    .dataframe tbody tr th:only-of-type {\n",
       "        vertical-align: middle;\n",
       "    }\n",
       "\n",
       "    .dataframe tbody tr th {\n",
       "        vertical-align: top;\n",
       "    }\n",
       "\n",
       "    .dataframe thead th {\n",
       "        text-align: right;\n",
       "    }\n",
       "</style>\n",
       "<table border=\"1\" class=\"dataframe\">\n",
       "  <thead>\n",
       "    <tr style=\"text-align: right;\">\n",
       "      <th></th>\n",
       "      <th>t</th>\n",
       "      <th>status</th>\n",
       "      <th>sex</th>\n",
       "      <th>logWBC</th>\n",
       "      <th>Rx</th>\n",
       "    </tr>\n",
       "  </thead>\n",
       "  <tbody>\n",
       "    <tr>\n",
       "      <th>0</th>\n",
       "      <td>35.0</td>\n",
       "      <td>0</td>\n",
       "      <td>1</td>\n",
       "      <td>1.45</td>\n",
       "      <td>0</td>\n",
       "    </tr>\n",
       "    <tr>\n",
       "      <th>1</th>\n",
       "      <td>34.0</td>\n",
       "      <td>0</td>\n",
       "      <td>1</td>\n",
       "      <td>1.47</td>\n",
       "      <td>0</td>\n",
       "    </tr>\n",
       "    <tr>\n",
       "      <th>2</th>\n",
       "      <td>32.0</td>\n",
       "      <td>0</td>\n",
       "      <td>1</td>\n",
       "      <td>2.20</td>\n",
       "      <td>0</td>\n",
       "    </tr>\n",
       "    <tr>\n",
       "      <th>3</th>\n",
       "      <td>32.0</td>\n",
       "      <td>0</td>\n",
       "      <td>1</td>\n",
       "      <td>2.53</td>\n",
       "      <td>0</td>\n",
       "    </tr>\n",
       "    <tr>\n",
       "      <th>4</th>\n",
       "      <td>25.0</td>\n",
       "      <td>0</td>\n",
       "      <td>1</td>\n",
       "      <td>1.78</td>\n",
       "      <td>0</td>\n",
       "    </tr>\n",
       "  </tbody>\n",
       "</table>\n",
       "</div>"
      ],
      "text/plain": [
       "      t  status  sex  logWBC  Rx\n",
       "0  35.0       0    1    1.45   0\n",
       "1  34.0       0    1    1.47   0\n",
       "2  32.0       0    1    2.20   0\n",
       "3  32.0       0    1    2.53   0\n",
       "4  25.0       0    1    1.78   0"
      ]
     },
     "execution_count": 2,
     "metadata": {},
     "output_type": "execute_result"
    }
   ],
   "source": [
    "data = load_leukemia()\n",
    "data[\"t\"] += np.arange(len(data))*1e-9\n",
    "print(f\"Number of samples: {len(data)}\")\n",
    "data.head()"
   ]
  },
  {
   "attachments": {},
   "cell_type": "markdown",
   "metadata": {},
   "source": [
    "## Cross-validation regimes"
   ]
  },
  {
   "cell_type": "code",
   "execution_count": 3,
   "metadata": {},
   "outputs": [],
   "source": [
    "def log_likelihood(partial_hazard:np.array, events:np.array) -> float:\n",
    "    sum_at_risk = np.log(np.cumsum(np.e**(partial_hazard)))\n",
    "    log_likelihood_ = np.sum(events * (partial_hazard - sum_at_risk))\n",
    "    return log_likelihood_\n",
    "\n",
    "def log_likelihood_from_cox(cox:CoxPHFitter, X:pd.DataFrame) -> float:\n",
    "    \n",
    "    X_ = X.copy()\n",
    "    X_ = X_.sort_values(by=[\"t\"], ascending=False)\n",
    "    events = X_[\"status\"].values\n",
    "    partial_hazard = cox.predict_log_partial_hazard(X_).values\n",
    "\n",
    "    return log_likelihood(partial_hazard, events)\n",
    "\n",
    "def log_likelihood_from_linear_predictors(lin_pred:pd.Series, data:pd.DataFrame) -> float:\n",
    "\n",
    "    values = pd.concat((data, pd.concat(lin_pred)), axis=1).sort_values(by=[\"t\"])\n",
    "\n",
    "    return log_likelihood(values[0], values[\"status\"])\n"
   ]
  },
  {
   "cell_type": "code",
   "execution_count": 4,
   "metadata": {},
   "outputs": [],
   "source": [
    "def traditional_cross_validation(cox:CoxPHFitter, X_test:pd.DataFrame) -> float:\n",
    "    return log_likelihood_from_cox(cox, X_test)\n",
    "\n",
    "def verweij_and_van_houwelingen(cox:CoxPHFitter, X_train:pd.DataFrame, X_test:pd.DataFrame):\n",
    "\n",
    "    train_likelihood = log_likelihood_from_cox(cox, X_train)\n",
    "    whole_likelihood = log_likelihood_from_cox(cox, pd.concat((X_train, X_test)))\n",
    "\n",
    "    return whole_likelihood - train_likelihood"
   ]
  },
  {
   "attachments": {},
   "cell_type": "markdown",
   "metadata": {},
   "source": [
    "## Cross-validation"
   ]
  },
  {
   "cell_type": "code",
   "execution_count": 5,
   "metadata": {},
   "outputs": [
    {
     "name": "stderr",
     "output_type": "stream",
     "text": [
      "100%|██████████| 20/20 [00:20<00:00,  1.01s/it]\n"
     ]
    }
   ],
   "source": [
    "cve_estimate = {\n",
    "    \"traditional\": [],\n",
    "    \"V_&_VH\": [],\n",
    "    \"lin_pred\": []\n",
    "}\n",
    "\n",
    "for i in tqdm(range(20)):\n",
    "    cv_metric = {\n",
    "        \"traditional\": [],\n",
    "        \"V_&_VH\": [],\n",
    "        \"lin_pred\": []\n",
    "    }\n",
    "    cv_linear_predictor = []\n",
    "\n",
    "    kfold = KFold(n_splits=10, shuffle=True, random_state=i)\n",
    "\n",
    "    for train_ids, test_ids in kfold.split(data):\n",
    "        X_train, X_test = data.iloc[train_ids], data.iloc[test_ids]\n",
    "\n",
    "        cox = CoxPHFitter()\n",
    "        cox.fit(X_train, \"t\", \"status\")\n",
    "\n",
    "        cv_metric[\"traditional\"].append(traditional_cross_validation(cox, X_test))\n",
    "        cv_metric[\"V_&_VH\"].append(verweij_and_van_houwelingen(cox, X_train, X_test))\n",
    "        cv_metric[\"lin_pred\"].append(cox.predict_log_partial_hazard(X_test))\n",
    "    \n",
    "    cve_estimate[\"traditional\"].append(-2 * np.sum(cv_metric[\"traditional\"]))\n",
    "    cve_estimate[\"V_&_VH\"].append(-2 * np.sum(cv_metric[\"V_&_VH\"]))\n",
    "    cve_estimate[\"lin_pred\"].append(-2 * log_likelihood_from_linear_predictors(cv_metric[\"lin_pred\"], data))\n"
   ]
  },
  {
   "cell_type": "code",
   "execution_count": 6,
   "metadata": {},
   "outputs": [],
   "source": [
    "cv_metric = {\n",
    "    \"traditional\": [],\n",
    "    \"V_&_VH\": [],\n",
    "    \"lin_pred\": []\n",
    "}\n",
    "\n",
    "kfold = KFold(n_splits=len(data), shuffle=True, random_state=0)\n",
    "\n",
    "for train_ids, test_ids in kfold.split(data):\n",
    "    X_train, X_test = data.iloc[train_ids], data.iloc[test_ids]\n",
    "\n",
    "    cox = CoxPHFitter()\n",
    "    cox.fit(X_train, \"t\", \"status\")\n",
    "\n",
    "    cv_metric[\"traditional\"].append(traditional_cross_validation(cox, X_test))\n",
    "    cv_metric[\"V_&_VH\"].append(verweij_and_van_houwelingen(cox, X_train, X_test))\n",
    "    cv_metric[\"lin_pred\"].append(cox.predict_log_partial_hazard(X_test))\n",
    "\n",
    "cve_estimate[\"traditional\"].append(-2 * np.sum(cv_metric[\"traditional\"]))\n",
    "cve_estimate[\"V_&_VH\"].append(-2 * np.sum(cv_metric[\"V_&_VH\"]))\n",
    "cve_estimate[\"lin_pred\"].append(-2 * log_likelihood_from_linear_predictors(cv_metric[\"lin_pred\"], data))"
   ]
  },
  {
   "attachments": {},
   "cell_type": "markdown",
   "metadata": {},
   "source": [
    "## Plotting results"
   ]
  },
  {
   "cell_type": "code",
   "execution_count": 7,
   "metadata": {},
   "outputs": [
    {
     "data": {
      "image/png": "[encoded data removed]",
      "text/plain": [
       "<Figure size 600x400 with 1 Axes>"
      ]
     },
     "metadata": {},
     "output_type": "display_data"
    }
   ],
   "source": [
    "f, ax = plt.subplots(1,1, figsize=(6,4))\n",
    "\n",
    "labels = [\"traditional CV\", \"V & VH\", \"linear predictors\"]\n",
    "colors = [\"k\", \"royalblue\", \"limegreen\"]\n",
    "\n",
    "for label, cve, color in zip(labels, cve_estimate.values(), colors):\n",
    "    kde = gaussian_kde(cve[:-1])\n",
    "    x_range = np.linspace(np.min(cve)*0.75, np.max(cve)*1.25)\n",
    "    \n",
    "    ax.plot(x_range, kde(x_range), label=label, color=color)\n",
    "\n",
    "    peak = np.max(kde(x_range)) + 0.02\n",
    "    ax.vlines(cve[-1], 0, peak, color=color, lw=0.8)\n",
    "    ax.text(cve[-1], peak, \"LOO \", fontsize=10, color=color,\n",
    "            horizontalalignment=\"right\")\n",
    "    \n",
    "    ax.text(np.mean(cve[:-1]), peak-0.02, f\"  20x 10-fold\", fontsize=10, color=color,)\n",
    "\n",
    "ax.legend(frameon=False, fontsize=12, loc=2)\n",
    "\n",
    "for loc in [\"top\", \"right\", \"left\"]:\n",
    "    ax.spines[loc].set_visible(False)\n",
    "\n",
    "ax.set_xlabel(\"CV error estimate\", fontsize=12)\n",
    "ax.yaxis.set_visible(False)\n",
    "\n",
    "f.savefig(\"CVE_comparison.png\", dpi=300, bbox_inches=\"tight\")"
   ]
  },
  {
   "cell_type": "code",
   "execution_count": null,
   "metadata": {},
   "outputs": [],
   "source": []
  }
 ],
 "metadata": {
  "interpreter": {
   "hash": "5175494a41cb86b7fa5c803618db3ce81c6ba8fb1bd95760d064acf57f958edc"
  },
  "kernelspec": {
   "display_name": "Python 3.9.16 ('ssl-latent')",
   "language": "python",
   "name": "python3"
  },
  "language_info": {
   "codemirror_mode": {
    "name": "ipython",
    "version": 3
   },
   "file_extension": ".py",
   "mimetype": "text/x-python",
   "name": "python",
   "nbconvert_exporter": "python",
   "pygments_lexer": "ipython3",
   "version": "3.9.16"
  },
  "orig_nbformat": 4
 },
 "nbformat": 4,
 "nbformat_minor": 2
}
